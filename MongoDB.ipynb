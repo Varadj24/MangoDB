{
 "cells": [
  {
   "cell_type": "code",
   "execution_count": null,
   "id": "f21813f1-685a-4796-bdab-14e332e64173",
   "metadata": {},
   "outputs": [],
   "source": [
    "#Q1. What is MongoDB? Explain non-relational databases in short. In which scenarios it is preferred to use MongoDB over SQL databases"
   ]
  },
  {
   "cell_type": "code",
   "execution_count": null,
   "id": "1c8e0a15-0376-4c32-8c8e-a24c20cac64b",
   "metadata": {},
   "outputs": [],
   "source": [
    "'''\n",
    " 1)MongoDB:\n",
    "MongoDB is a popular NoSQL database management system (DBMS) that falls under the category of non-relational or document-oriented databases. \n",
    "Unlike traditional relational databases, MongoDB stores data in a flexible, \n",
    "schema-less format called BSON (Binary JSON), which allows for the storage of documents in\n",
    "a way that doesn't require a predefined schema for all data.\n",
    "\n",
    " 2)Non-Relational Databases:\n",
    "\n",
    "Non-relational databases, often referred to as NoSQL databases, are a class of database \n",
    "systems that are designed to handle data models other than the traditional relational model used by SQL databases.\n",
    "\n",
    " 3)When to Use MongoDB Over SQL Databases:\n",
    "\n",
    "MongoDB is preferred over SQL databases in specific scenarios:\n",
    "\n",
    "A)Flexible Schema:\n",
    "B)Large Volumes of Unstructured Data\n",
    "C)Horizontal Scalability\n",
    "D)Real-Time Analytics\n",
    "E)Agile Development\n",
    "F)Document-Oriented Data\n",
    "G)Cloud-Native Applications'''"
   ]
  },
  {
   "cell_type": "code",
   "execution_count": 1,
   "id": "57ad5520-ce7b-431b-94be-9cb31913731a",
   "metadata": {},
   "outputs": [],
   "source": [
    "#Q2. State and Explain the features of MongoDB."
   ]
  },
  {
   "cell_type": "code",
   "execution_count": null,
   "id": "8d9ae090-bf16-4662-8e0b-c876e201fb73",
   "metadata": {},
   "outputs": [],
   "source": [
    "'''MongoDB is a popular NoSQL database management system known for its flexibility, scalability, and ease of use. \n",
    "It's designed to handle unstructured or semi-structured data and is particularly well-suited for applications \n",
    "with rapidly changing data requirements. \n",
    "\n",
    "\n",
    "Here are some key features of MongoDB:\n",
    "\n",
    "Schema-less Data Model\n",
    "Document-Oriented\n",
    "Dynamic Schema\n",
    "Horizontal Scalability\n",
    "High Availability\n",
    "Indexing\n",
    "Aggregation Framework\n",
    "Rich Query Language\n",
    "Geospatial Capabilities\n",
    "Document Validation\n",
    "Full-Text Search\n",
    "Security\n",
    "Community and Ecosystem'''"
   ]
  },
  {
   "cell_type": "code",
   "execution_count": null,
   "id": "65d72637-c6d1-4565-975c-76b2edf810eb",
   "metadata": {},
   "outputs": [],
   "source": []
  },
  {
   "cell_type": "code",
   "execution_count": 2,
   "id": "26c0cb61-fc60-471f-be98-b8a96f16f2fd",
   "metadata": {},
   "outputs": [],
   "source": [
    "#Q3. Write a code to connect MongoDB to Python. Also, create a database and a collection in MongoDB."
   ]
  },
  {
   "cell_type": "code",
   "execution_count": 3,
   "id": "2d0af1a5-83cc-41a2-badc-53ee2f225d72",
   "metadata": {},
   "outputs": [
    {
     "name": "stdout",
     "output_type": "stream",
     "text": [
      "Collecting pymongo\n",
      "  Downloading pymongo-4.5.0-cp310-cp310-manylinux_2_17_x86_64.manylinux2014_x86_64.whl (671 kB)\n",
      "\u001b[2K     \u001b[90m━━━━━━━━━━━━━━━━━━━━━━━━━━━━━━━━━━━━━━\u001b[0m \u001b[32m671.3/671.3 kB\u001b[0m \u001b[31m16.8 MB/s\u001b[0m eta \u001b[36m0:00:00\u001b[0m00:01\u001b[0m\n",
      "\u001b[?25hCollecting dnspython<3.0.0,>=1.16.0\n",
      "  Downloading dnspython-2.4.2-py3-none-any.whl (300 kB)\n",
      "\u001b[2K     \u001b[90m━━━━━━━━━━━━━━━━━━━━━━━━━━━━━━━━━━━━━━\u001b[0m \u001b[32m300.4/300.4 kB\u001b[0m \u001b[31m35.3 MB/s\u001b[0m eta \u001b[36m0:00:00\u001b[0m\n",
      "\u001b[?25hInstalling collected packages: dnspython, pymongo\n",
      "Successfully installed dnspython-2.4.2 pymongo-4.5.0\n",
      "Note: you may need to restart the kernel to use updated packages.\n"
     ]
    }
   ],
   "source": [
    "pip install pymongo\n"
   ]
  },
  {
   "cell_type": "code",
   "execution_count": null,
   "id": "54ad4e32-cb6d-496d-956f-d76f648fcb31",
   "metadata": {},
   "outputs": [],
   "source": [
    "import pymongo\n",
    "\n",
    "client = pymongo.MongoClient('your_mongodb_uri')\n",
    "\n",
    "db = client['mydatabase']\n",
    "\n",
    "collection = db['mycollection']\n",
    "\n",
    "\n",
    "data = {\n",
    "    'name': 'John Doe',\n",
    "    'email': 'john.doe@example.com',\n",
    "    'age': 30\n",
    "}\n",
    "\n",
    "result = collection.insert_one(data)\n",
    "\n",
    "if result.inserted_id:\n",
    "    print(f\"Document inserted with ID: {result.inserted_id}\")\n",
    "else:\n",
    "    print(\"Failed to insert document.\")\n",
    "    \n",
    "\n",
    "query = {'name': 'John Doe'}\n",
    "document = collection.find_one(query)\n",
    "\n",
    "if document:\n",
    "    print(\"Found document:\")\n",
    "    print(document)\n",
    "else:\n",
    "    print(\"Document not found.\")\n",
    "\n",
    "client.close()"
   ]
  },
  {
   "cell_type": "code",
   "execution_count": null,
   "id": "88240457-3cf0-4fc2-b6f7-d89f93a1c586",
   "metadata": {},
   "outputs": [],
   "source": []
  },
  {
   "cell_type": "code",
   "execution_count": 5,
   "id": "952a8c20-945e-4154-89db-f0ce0185a1fb",
   "metadata": {},
   "outputs": [],
   "source": [
    "#Q4Using the database and the collection created in question number 3, write a code to insert one record, \n",
    "#and insert many records. Use the find() and find_one() methods to print the inserted record"
   ]
  },
  {
   "cell_type": "code",
   "execution_count": null,
   "id": "9a507aca-1725-4c0a-8311-75639102216b",
   "metadata": {},
   "outputs": [],
   "source": [
    "'''import pymongo\n",
    "\n",
    "mongo_client = pymongo.MongoClient(\"mongodb://localhost:27017/\")\n",
    "\n",
    "mydb = mongo_client[\"mydatabase\"]\n",
    "mycollection = mydb[\"mycollection\"]\n",
    "\n",
    "one_record = {\n",
    "    \"name\": \"John Doe\",\n",
    "    \"age\": 30,\n",
    "    \"city\": \"New York\"\n",
    "}\n",
    "\n",
    "inserted_one = mycollection.insert_one(one_record)\n",
    "print(\"One record inserted with ID:\", inserted_one.inserted_id)\n",
    "\n",
    "many_records = [\n",
    "    {\n",
    "        \"name\": \"Alice Smith\",\n",
    "        \"age\": 25,\n",
    "        \"city\": \"Los Angeles\"\n",
    "    },\n",
    "    {\n",
    "        \"name\": \"Bob Johnson\",\n",
    "        \"age\": 35,\n",
    "        \"city\": \"Chicago\"\n",
    "    },\n",
    "    {\n",
    "        \"name\": \"Eve Brown\",\n",
    "        \"age\": 28,\n",
    "        \"city\": \"San Francisco\"\n",
    "    }\n",
    "]\n",
    "\n",
    "inserted_many = mycollection.insert_many(many_records)\n",
    "print(\"Many records inserted with IDs:\", inserted_many.inserted_ids)\n",
    "\n",
    "# Find and print the inserted records\n",
    "print(\"\\nInserted Records:\")\n",
    "for record in mycollection.find():\n",
    "    print(record)\n",
    "\n",
    "print(\"\\nOne Inserted Record (find_one()):\")\n",
    "one_inserted_record = mycollection.find_one({\"name\": \"John Doe\"})\n",
    "print(one_inserted_record)\n",
    "'''"
   ]
  },
  {
   "cell_type": "code",
   "execution_count": null,
   "id": "86ff483f-7379-4bc3-8dfc-87d73280f97e",
   "metadata": {},
   "outputs": [],
   "source": []
  },
  {
   "cell_type": "code",
   "execution_count": 8,
   "id": "f8bc9a63-80b8-4139-9d58-be7d68c6e17f",
   "metadata": {},
   "outputs": [],
   "source": [
    "#Q5. Explain how you can use the find() method to query the MongoDB database. Write a simple code to demonstrate this"
   ]
  },
  {
   "cell_type": "code",
   "execution_count": null,
   "id": "04df2334-4b8d-469c-9f36-a2921e164037",
   "metadata": {},
   "outputs": [],
   "source": [
    "'''The find() method in MongoDB is used to query a collection and retrieve documents that match certain criteria. \n",
    "It allows you to filter and retrieve data based on specific conditions or constraints. \n",
    "You can use various query operators to specify your criteria, such as filtering by field values, using comparison operators, and more. \n",
    "Here's a basic explanation of how to use the find() method and a simple code example to demonstrate its usage:\n",
    "\n",
    "\n",
    "# Import the pymongo library\n",
    "import pymongo\n",
    "\n",
    "# Define the MongoDB connection details\n",
    "mongo_client = pymongo.MongoClient(\"mongodb://localhost:27017/\")\n",
    "\n",
    "# Specify the database and collection\n",
    "mydb = mongo_client[\"mydatabase\"]\n",
    "mycollection = mydb[\"mycollection\"]\n",
    "\n",
    "# Query for documents where age is greater than or equal to 30\n",
    "query = {\"age\": {\"$gte\": 30}}\n",
    "result = mycollection.find(query)\n",
    "\n",
    "# Print the matching documents\n",
    "print(\"Matching Documents (age >= 30):\")\n",
    "for doc in result:\n",
    "    print(doc)'''"
   ]
  },
  {
   "cell_type": "code",
   "execution_count": null,
   "id": "5cf70682-290e-4953-b8b4-c38797f231d6",
   "metadata": {},
   "outputs": [],
   "source": []
  },
  {
   "cell_type": "code",
   "execution_count": 9,
   "id": "f5d4a11f-81ac-4ac8-82e0-1e2ab1b86a40",
   "metadata": {},
   "outputs": [],
   "source": [
    "#Q6. Explain the sort() method. Give an example to demonstrate sorting in MongoDB."
   ]
  },
  {
   "cell_type": "code",
   "execution_count": null,
   "id": "cef68346-dfea-4171-9690-51614b110110",
   "metadata": {},
   "outputs": [],
   "source": [
    "'''The sort() method in MongoDB is used to sort the results of a query in either ascending (1) or descending (-1) order based on one or more \n",
    "fields in the documents. You can use the sort() method to control the order in which documents are returned from a query,\n",
    "making it useful for various data analysis and reporting tasks.'''"
   ]
  },
  {
   "cell_type": "code",
   "execution_count": null,
   "id": "3a3f77a7-b7a6-441e-8272-6e853bf32b06",
   "metadata": {},
   "outputs": [],
   "source": []
  },
  {
   "cell_type": "code",
   "execution_count": 10,
   "id": "854cd22b-d167-4894-9916-b00f64dea102",
   "metadata": {},
   "outputs": [],
   "source": [
    "#Q7. Explain why delete_one(), delete_many(), and drop() is used."
   ]
  },
  {
   "cell_type": "code",
   "execution_count": null,
   "id": "5125bb09-c2da-4a44-bb46-c858006d309c",
   "metadata": {},
   "outputs": [],
   "source": [
    "'''\n",
    "1).Delete_one(filter) Method:\n",
    "\n",
    "Purpose: \n",
    "        This method is used to delete a single document that matches a specified filter or query.\n",
    "Usage:\n",
    "      It's typically employed when you want to remove a specific document from a collection without affecting other documents.\n",
    "\n",
    "2).Delete_many(filter) Method:\n",
    "\n",
    "Purpose: \n",
    "        This method is used to delete multiple documents that match a specified filter or query.\n",
    "Usage: \n",
    "      It's useful when you want to remove several documents from a collection based on specific criteria.\n",
    "\n",
    "3).Drop() Method:\n",
    "\n",
    "Purpose: \n",
    "        The drop() method is used to completely remove a collection from the database, including all of its documents and indexes.\n",
    "Usage: \n",
    "       It's employed when you no longer need a collection and want to remove it entirely from the database.'''"
   ]
  }
 ],
 "metadata": {
  "kernelspec": {
   "display_name": "Python 3 (ipykernel)",
   "language": "python",
   "name": "python3"
  },
  "language_info": {
   "codemirror_mode": {
    "name": "ipython",
    "version": 3
   },
   "file_extension": ".py",
   "mimetype": "text/x-python",
   "name": "python",
   "nbconvert_exporter": "python",
   "pygments_lexer": "ipython3",
   "version": "3.10.8"
  }
 },
 "nbformat": 4,
 "nbformat_minor": 5
}
